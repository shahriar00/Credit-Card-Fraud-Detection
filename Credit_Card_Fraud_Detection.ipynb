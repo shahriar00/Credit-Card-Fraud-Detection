{
  "nbformat": 4,
  "nbformat_minor": 0,
  "metadata": {
    "colab": {
      "provenance": [],
      "authorship_tag": "ABX9TyOyulz6KZc2LYiS5xYmmkmK"
    },
    "kernelspec": {
      "name": "python3",
      "display_name": "Python 3"
    },
    "language_info": {
      "name": "python"
    }
  },
  "cells": [
    {
      "cell_type": "code",
      "execution_count": 1,
      "metadata": {
        "id": "oUlLMhpDdCBC"
      },
      "outputs": [],
      "source": [
        "import numpy as np\n",
        "import pandas as pd\n",
        "import seaborn as sns\n",
        "import matplotlib.pyplot as plt\n",
        "from sklearn.model_selection import train_test_split\n",
        "from sklearn.metrics import accuracy_score\n",
        "from sklearn.linear_model import LogisticRegression"
      ]
    },
    {
      "cell_type": "code",
      "source": [
        "df = pd.read_csv('creditcard.csv')\n",
        "df.head()"
      ],
      "metadata": {
        "id": "W28ptVaefaKA"
      },
      "execution_count": null,
      "outputs": []
    },
    {
      "cell_type": "code",
      "source": [
        "df.info()"
      ],
      "metadata": {
        "id": "-OmYVbFKfr6B"
      },
      "execution_count": null,
      "outputs": []
    },
    {
      "cell_type": "code",
      "source": [
        "df.shape"
      ],
      "metadata": {
        "colab": {
          "base_uri": "https://localhost:8080/"
        },
        "id": "Jqof5rwhf0fY",
        "outputId": "4ca731a5-733c-4197-9dc5-5e6162018a32"
      },
      "execution_count": 6,
      "outputs": [
        {
          "output_type": "execute_result",
          "data": {
            "text/plain": [
              "(27819, 31)"
            ]
          },
          "metadata": {},
          "execution_count": 6
        }
      ]
    },
    {
      "cell_type": "code",
      "source": [
        "df.describe()"
      ],
      "metadata": {
        "id": "YjK1lGWFf2hZ"
      },
      "execution_count": null,
      "outputs": []
    },
    {
      "cell_type": "code",
      "source": [
        "df.isnull().sum()"
      ],
      "metadata": {
        "id": "i4XjZ1Kdf6Ph"
      },
      "execution_count": null,
      "outputs": []
    },
    {
      "cell_type": "code",
      "source": [
        "data = df.dropna()"
      ],
      "metadata": {
        "id": "mmupc5wJgAdp"
      },
      "execution_count": 10,
      "outputs": []
    },
    {
      "cell_type": "code",
      "source": [
        "data.isnull().sum()"
      ],
      "metadata": {
        "id": "6zLGoYiSgs4R"
      },
      "execution_count": null,
      "outputs": []
    },
    {
      "cell_type": "code",
      "source": [
        "data['Class'].value_counts()"
      ],
      "metadata": {
        "colab": {
          "base_uri": "https://localhost:8080/"
        },
        "id": "EzJUa1s3gwpp",
        "outputId": "ac6dc663-84fb-4085-c6ce-95632e8c89ac"
      },
      "execution_count": 12,
      "outputs": [
        {
          "output_type": "execute_result",
          "data": {
            "text/plain": [
              "0.0    27725\n",
              "1.0       93\n",
              "Name: Class, dtype: int64"
            ]
          },
          "metadata": {},
          "execution_count": 12
        }
      ]
    },
    {
      "cell_type": "code",
      "source": [
        "legit = data[data.Class == 0]\n",
        "fraud = data[data.Class == 1]"
      ],
      "metadata": {
        "id": "BEdM9GfZhiNw"
      },
      "execution_count": 13,
      "outputs": []
    },
    {
      "cell_type": "code",
      "source": [
        "legit.Amount.describe()"
      ],
      "metadata": {
        "colab": {
          "base_uri": "https://localhost:8080/"
        },
        "id": "nRe6fnVQh7Er",
        "outputId": "5ec6338d-70c6-4d1d-e248-e097f449a7ef"
      },
      "execution_count": 14,
      "outputs": [
        {
          "output_type": "execute_result",
          "data": {
            "text/plain": [
              "count    27725.000000\n",
              "mean        77.232517\n",
              "std        219.509762\n",
              "min          0.000000\n",
              "25%          6.490000\n",
              "50%         19.950000\n",
              "75%         69.320000\n",
              "max       7879.420000\n",
              "Name: Amount, dtype: float64"
            ]
          },
          "metadata": {},
          "execution_count": 14
        }
      ]
    },
    {
      "cell_type": "code",
      "source": [
        "fraud.Amount.describe()"
      ],
      "metadata": {
        "colab": {
          "base_uri": "https://localhost:8080/"
        },
        "id": "ScHwsAdAh_SR",
        "outputId": "14a03662-9d70-4db4-f256-3c23e2e7e083"
      },
      "execution_count": 15,
      "outputs": [
        {
          "output_type": "execute_result",
          "data": {
            "text/plain": [
              "count      93.000000\n",
              "mean       96.609677\n",
              "std       259.128010\n",
              "min         0.000000\n",
              "25%         1.000000\n",
              "50%         1.100000\n",
              "75%        99.990000\n",
              "max      1809.680000\n",
              "Name: Amount, dtype: float64"
            ]
          },
          "metadata": {},
          "execution_count": 15
        }
      ]
    },
    {
      "cell_type": "markdown",
      "source": [
        "**Unbalanced to Balanced Dataset for the Class Column**"
      ],
      "metadata": {
        "id": "wu_Qqx48j4ry"
      }
    },
    {
      "cell_type": "code",
      "source": [
        "legit_sample = data.sample(n = 93)\n",
        "newdata = pd.concat([legit_sample,fraud],axis = 0)\n",
        "newdata.tail()"
      ],
      "metadata": {
        "id": "2eOjegT0iEjY"
      },
      "execution_count": null,
      "outputs": []
    },
    {
      "cell_type": "code",
      "source": [
        "newdata['Class'].value_counts()"
      ],
      "metadata": {
        "colab": {
          "base_uri": "https://localhost:8080/"
        },
        "id": "Nib8bCGRjxi4",
        "outputId": "fe5030da-699c-480f-8005-d624b093bbd0"
      },
      "execution_count": 19,
      "outputs": [
        {
          "output_type": "execute_result",
          "data": {
            "text/plain": [
              "0.0    93\n",
              "1.0    93\n",
              "Name: Class, dtype: int64"
            ]
          },
          "metadata": {},
          "execution_count": 19
        }
      ]
    },
    {
      "cell_type": "code",
      "source": [
        "x = newdata.drop('Class',axis = 1)\n",
        "y = newdata['Class']"
      ],
      "metadata": {
        "id": "1-9LjegAkQqw"
      },
      "execution_count": 20,
      "outputs": []
    },
    {
      "cell_type": "code",
      "source": [
        "x_train,x_test,y_train,y_test = train_test_split(x,y,test_size = 0.2)\n",
        "model = LogisticRegression()\n",
        "model.fit(x_train,y_train)\n",
        "x_pred = model.predict(x_train)\n",
        "accuracy = accuracy_score(x_pred,y_train)\n",
        "print(\"Accuracy: \",accuracy)"
      ],
      "metadata": {
        "id": "Hzczsk1UkjkI"
      },
      "execution_count": null,
      "outputs": []
    },
    {
      "cell_type": "code",
      "source": [
        "model.fit(x_test,y_test)\n",
        "x_prediction = model.predict(x_test)\n",
        "accuracy_score(x_prediction,y_test)"
      ],
      "metadata": {
        "id": "OtUAbjcnl6uY"
      },
      "execution_count": null,
      "outputs": []
    }
  ]
}